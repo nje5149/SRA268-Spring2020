{
  "nbformat": 4,
  "nbformat_minor": 0,
  "metadata": {
    "colab": {
      "name": "Lab1.ipynb",
      "provenance": [],
      "authorship_tag": "ABX9TyP05U+Dxwi3ajEoSflwzAjA",
      "include_colab_link": true
    },
    "kernelspec": {
      "name": "python3",
      "display_name": "Python 3"
    }
  },
  "cells": [
    {
      "cell_type": "markdown",
      "metadata": {
        "id": "view-in-github",
        "colab_type": "text"
      },
      "source": [
        "<a href=\"https://colab.research.google.com/github/nje5149/SRA268-Spring2020/blob/master/Lab1.ipynb\" target=\"_parent\"><img src=\"https://colab.research.google.com/assets/colab-badge.svg\" alt=\"Open In Colab\"/></a>"
      ]
    },
    {
      "cell_type": "markdown",
      "metadata": {
        "id": "m7e_w0bpaZoW",
        "colab_type": "text"
      },
      "source": [
        "# Project Title\n",
        "Does it Snow less when there is High Precipitation?"
      ]
    },
    {
      "cell_type": "markdown",
      "metadata": {
        "id": "wPrjLbP6axgr",
        "colab_type": "text"
      },
      "source": [
        "# Description\n",
        "Snowfall can be an obstacle for the lives of multiple people in the world.  Being able to find a pattern and determining a way to predict how much snow we will receive could make life extremely easier.  Luckily, we have data from various dates when there was snowfall.  We’d like to see if there is less snow recorded when there is a high level of precipitation.  We will do this by comparing the data of precipitation in inches to snow in inches.\n"
      ]
    },
    {
      "cell_type": "markdown",
      "metadata": {
        "id": "YcprugbbeRWj",
        "colab_type": "text"
      },
      "source": [
        "# Graph\n",
        "![alt text](https://raw.githubusercontent.com/nje5149/SRA268-Spring2020/master/images/Lab%201%20Graph.jpg)"
      ]
    },
    {
      "cell_type": "markdown",
      "metadata": {
        "id": "vgG5Ao9olnCI",
        "colab_type": "text"
      },
      "source": [
        "# Conclusion\n",
        "We can conclude that there will be an association from the graph. Though the rough sketch is using only some of the main data, we can see that there might be a negative association between snow and precipitation.  To explain this further, it would mean that there is going to be less precipitation when there is going to be a lot of snow."
      ]
    }
  ]
}