{
  "nbformat": 4,
  "nbformat_minor": 0,
  "metadata": {
    "colab": {
      "name": "Lab2Template.ipynb",
      "provenance": [],
      "collapsed_sections": [],
      "include_colab_link": true
    },
    "kernelspec": {
      "name": "python3",
      "display_name": "Python 3"
    }
  },
  "cells": [
    {
      "cell_type": "markdown",
      "metadata": {
        "id": "view-in-github",
        "colab_type": "text"
      },
      "source": [
        "<a href=\"https://colab.research.google.com/github/nje5149/SRA268-Spring2020/blob/master/Lab2Template.ipynb\" target=\"_parent\"><img src=\"https://colab.research.google.com/assets/colab-badge.svg\" alt=\"Open In Colab\"/></a>"
      ]
    },
    {
      "cell_type": "markdown",
      "metadata": {
        "id": "6sOc4Uyr4U-Z",
        "colab_type": "text"
      },
      "source": [
        "## Graph Types"
      ]
    },
    {
      "cell_type": "markdown",
      "metadata": {
        "id": "0zZdVLAd5CYr",
        "colab_type": "text"
      },
      "source": [
        "Creator\n",
        "* Nate Eyster "
      ]
    },
    {
      "cell_type": "markdown",
      "metadata": {
        "id": "g-r6Clq45Hn4",
        "colab_type": "text"
      },
      "source": [
        "### Deviation\n"
      ]
    },
    {
      "cell_type": "markdown",
      "metadata": {
        "id": "2gorxo6E7A0t",
        "colab_type": "text"
      },
      "source": [
        "![alt text](https://raw.githubusercontent.com/nje5149/SRA268-Spring2020/master/images/Deviation%20Graph%20Updated.png)"
      ]
    },
    {
      "cell_type": "markdown",
      "metadata": {
        "id": "w6bZ_NEi7E3w",
        "colab_type": "text"
      },
      "source": [
        "#### What is this telling us?"
      ]
    },
    {
      "cell_type": "markdown",
      "metadata": {
        "id": "95L-spaC7QHF",
        "colab_type": "text"
      },
      "source": [
        "This graph shows the difference between the average winning scores for each year and the winning score average of all the years combined.  So, we can see if a specific year has a higher scoring average for winning teams, or if that year is lower than the average.  This graph tells us that in the earlier years the winning team was scoring higher than the average.  However, after 1998 we see that the winning scores are much lower than the average.  So, we can see that in recent years the winning teams have been averaging lower scores compared to the years before 1998.\n",
        " \n"
      ]
    },
    {
      "cell_type": "markdown",
      "metadata": {
        "id": "YgXyXjmz7cDP",
        "colab_type": "text"
      },
      "source": [
        "### Correlation\n"
      ]
    },
    {
      "cell_type": "markdown",
      "metadata": {
        "id": "SGx15rZq7hvt",
        "colab_type": "text"
      },
      "source": [
        "![alt text](https://raw.githubusercontent.com/nje5149/SRA268-Spring2020/master/images/Correlation%20Graph%201.png)"
      ]
    },
    {
      "cell_type": "markdown",
      "metadata": {
        "id": "dljjONNi7jmj",
        "colab_type": "text"
      },
      "source": [
        "#### What is this telling us?"
      ]
    },
    {
      "cell_type": "markdown",
      "metadata": {
        "id": "PwZEZrFB7laG",
        "colab_type": "text"
      },
      "source": [
        "In this graph, we can see the correlation between the average winning and losing points for each year.  So, we can see the placement of each year on the graph, and if there are any patterns between the data each year.  This graph shows us that there is a positive correlation between the two subjects since both axises increase with each other.  If the winning score average is high, then the losing score average for that year will be high as well.  The graph also shows that there are no years where both teams scored less than fifty, so every year averaged very high scoring games for both the losing and winning team. "
      ]
    },
    {
      "cell_type": "markdown",
      "metadata": {
        "id": "MqUdI-uL7r2s",
        "colab_type": "text"
      },
      "source": [
        "### Ranking\n"
      ]
    },
    {
      "cell_type": "markdown",
      "metadata": {
        "id": "AvlxCOVt7x9F",
        "colab_type": "text"
      },
      "source": [
        "![alt text](https://raw.githubusercontent.com/nje5149/SRA268-Spring2020/master/images/Rank%20Graph.png)"
      ]
    },
    {
      "cell_type": "markdown",
      "metadata": {
        "id": "lCAYtfza7yTq",
        "colab_type": "text"
      },
      "source": [
        "#### What is this telling us?"
      ]
    },
    {
      "cell_type": "markdown",
      "metadata": {
        "id": "MyuciD277ygU",
        "colab_type": "text"
      },
      "source": [
        "This graph is telling us the rankings of the average winning team scores for each year.  The graph is arranged from least to greatest average winning scores, so we can see import data points.  We can see that 1984 has the lowest average winning score, and that 1988 has the highest average winning score.  The graph also shows the growth of each ranking, and how the rankings change after each other.  We see that the rankings increase at a very steady pace, and that there are no sudden increases anywhere on the graph.  So, we can see that each ranking stays somewhat close to the previous and next ranking on the graph."
      ]
    },
    {
      "cell_type": "markdown",
      "metadata": {
        "id": "dGDGl8-G7y8Y",
        "colab_type": "text"
      },
      "source": [
        "### Distribution\n"
      ]
    },
    {
      "cell_type": "markdown",
      "metadata": {
        "id": "FB0uV-jy76p9",
        "colab_type": "text"
      },
      "source": [
        "![alt text](https://raw.githubusercontent.com/nje5149/SRA268-Spring2020/master/images/Histogram%20Graph.png)"
      ]
    },
    {
      "cell_type": "markdown",
      "metadata": {
        "id": "_6SOzhrQ76zH",
        "colab_type": "text"
      },
      "source": [
        "#### What is this telling us?"
      ]
    },
    {
      "cell_type": "markdown",
      "metadata": {
        "id": "HBWqsS_g767h",
        "colab_type": "text"
      },
      "source": [
        "This graph shows us the total amount of times a certain scoring ranging had for each winning team.  So, we can see how many games scored below or above a certain score range.  Also, the graph is able to tell us which scoring range occurs the most, or least, often.  Another thing the graph is telling us is if the data is symmetric or skewed.  We can see that the histogram is quite symmetric, so we are able to see that the total occurrences for a scoring range will decrease the further the data gets from the median of the graph. "
      ]
    },
    {
      "cell_type": "markdown",
      "metadata": {
        "id": "wQsDThk677Fy",
        "colab_type": "text"
      },
      "source": [
        "### Change over Time\n"
      ]
    },
    {
      "cell_type": "markdown",
      "metadata": {
        "id": "Z1j_YLOA7_OK",
        "colab_type": "text"
      },
      "source": [
        "![alt text](https://raw.githubusercontent.com/nje5149/SRA268-Spring2020/master/images/Over%20Time%20Graph.png)"
      ]
    },
    {
      "cell_type": "markdown",
      "metadata": {
        "id": "mpfsmmgi7_Vj",
        "colab_type": "text"
      },
      "source": [
        "#### What is this telling us?"
      ]
    },
    {
      "cell_type": "markdown",
      "metadata": {
        "id": "rYLXoMMO7_di",
        "colab_type": "text"
      },
      "source": [
        "This graph is giving us a timeline of how the average winning score changes every year.  Each year to year comparison gives us an idea on how much the scoring increased or decreased from the previous year.  This graph can also help us see if there are any changes in there are patterns for a data set.  This data set doesn't have any overall pattern, and we can tell since there is no consistent change throughout the graph.  So, we are able to tell that it is impossible to predict with certainty the next year based on this graph alone.  THis graph shows us a clear timeline of the data, and makes it easier for us to see any patterns hidden in the data."
      ]
    },
    {
      "cell_type": "markdown",
      "metadata": {
        "id": "lFwiHoE-7_jZ",
        "colab_type": "text"
      },
      "source": [
        "### Magnitude\n"
      ]
    },
    {
      "cell_type": "markdown",
      "metadata": {
        "id": "ICQFnXj78EbF",
        "colab_type": "text"
      },
      "source": [
        "![alt text](https://raw.githubusercontent.com/nje5149/SRA268-Spring2020/master/images/Magnitude%20Graph.png)"
      ]
    },
    {
      "cell_type": "markdown",
      "metadata": {
        "id": "QGG7XYG88Eii",
        "colab_type": "text"
      },
      "source": [
        "#### What is this telling us?"
      ]
    },
    {
      "cell_type": "markdown",
      "metadata": {
        "id": "VS7uGa0l8Eos",
        "colab_type": "text"
      },
      "source": [
        "This graph helps us see a comparison between two data, average winning points and average losing points.  This graph makes it easier for us to compare the information for each year since all the data is present for each year.  For example, I can compare 1984 and 2016 together, and see how the two years differ with their scoring averages.  Also, the graph makes it much easier to visualize the information in the data set.  We can see visually see how much a losing team would score on average for a specific year, and then see how much they would usually lose by since the winning average is right next to it.  This graph helps us visually see the difference between two data sets for each year."
      ]
    },
    {
      "cell_type": "markdown",
      "metadata": {
        "id": "bEKFxP8R8Evk",
        "colab_type": "text"
      },
      "source": [
        "### Part-to-Whole\n"
      ]
    },
    {
      "cell_type": "markdown",
      "metadata": {
        "id": "WFHlcYKV8E35",
        "colab_type": "text"
      },
      "source": [
        "![alt text](https://raw.githubusercontent.com/nje5149/SRA268-Spring2020/master/images/Part%20To%20Whole%20Graph.png)"
      ]
    },
    {
      "cell_type": "markdown",
      "metadata": {
        "id": "PNSd3wlp8UZH",
        "colab_type": "text"
      },
      "source": [
        "#### What is this telling us?"
      ]
    },
    {
      "cell_type": "markdown",
      "metadata": {
        "id": "y9tb_QRA8aqt",
        "colab_type": "text"
      },
      "source": [
        "This graph helps us get a visual of how many total points each four regions have scored when a team from that region has lost a game.  The graph lets us know that each of the four regions have about the same total points scored.  So, this graph tells us that these regions are pretty equal in the category of losing points scored.  This graph also helps us see which region scored the most points in a losing game.  Starting from the bottom, we can see that region Z scored the most points in losing games, and region W scored the least points in losing games."
      ]
    }
  ]
}