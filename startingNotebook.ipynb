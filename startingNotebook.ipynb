{
  "nbformat": 4,
  "nbformat_minor": 0,
  "metadata": {
    "colab": {
      "name": "startingNotebook.ipynb",
      "provenance": [],
      "toc_visible": true,
      "authorship_tag": "ABX9TyOCSxIIfstigxpztD3CA6CY",
      "include_colab_link": true
    },
    "kernelspec": {
      "name": "python3",
      "display_name": "Python 3"
    }
  },
  "cells": [
    {
      "cell_type": "markdown",
      "metadata": {
        "id": "view-in-github",
        "colab_type": "text"
      },
      "source": [
        "<a href=\"https://colab.research.google.com/github/nje5149/SRA268-Spring2020/blob/master/startingNotebook.ipynb\" target=\"_parent\"><img src=\"https://colab.research.google.com/assets/colab-badge.svg\" alt=\"Open In Colab\"/></a>"
      ]
    },
    {
      "cell_type": "code",
      "metadata": {
        "id": "Jr6_9LB55STt",
        "colab_type": "code",
        "colab": {
          "base_uri": "https://localhost:8080/",
          "height": 34
        },
        "outputId": "dcf4772c-abda-4013-95a4-2c791a682dfd"
      },
      "source": [
        "2+2"
      ],
      "execution_count": 1,
      "outputs": [
        {
          "output_type": "execute_result",
          "data": {
            "text/plain": [
              "4"
            ]
          },
          "metadata": {
            "tags": []
          },
          "execution_count": 1
        }
      ]
    },
    {
      "cell_type": "markdown",
      "metadata": {
        "id": "H_MNz2CC5eiS",
        "colab_type": "text"
      },
      "source": [
        "Some Text"
      ]
    },
    {
      "cell_type": "markdown",
      "metadata": {
        "id": "H4xzk55o5wtF",
        "colab_type": "text"
      },
      "source": [
        "something abstract"
      ]
    },
    {
      "cell_type": "markdown",
      "metadata": {
        "id": "L0XcPLtj51j4",
        "colab_type": "text"
      },
      "source": [
        "# introduction"
      ]
    },
    {
      "cell_type": "markdown",
      "metadata": {
        "id": "bG1HaHUT54je",
        "colab_type": "text"
      },
      "source": [
        "![no image](https://github.com/nje5149/SRA268-Spring2020/blob/master/psu%20image.jpg)"
      ]
    }
  ]
}